{
 "cells": [
  {
   "cell_type": "code",
   "execution_count": 1,
   "metadata": {},
   "outputs": [],
   "source": [
    "# Imports\n",
    "import pandas as pd"
   ]
  },
  {
   "cell_type": "code",
   "execution_count": 2,
   "metadata": {},
   "outputs": [],
   "source": [
    "# Define datatypes\n",
    "hosp_dtypes = {\n",
    "    \"location_name\": \"category\",\n",
    "    \"mobility_data_type\": \"category\",\n",
    "    \"total_tests_data_type\": \"category\"\n",
    "}\n",
    "\n",
    "stat_dtypes = {\n",
    "    \"location_name\": \"category\"\n",
    "}\n"
   ]
  },
  {
   "cell_type": "code",
   "execution_count": 3,
   "metadata": {},
   "outputs": [],
   "source": [
    "# Define data files\n",
    "hosp_file = r'.\\2020_05_10\\Hospitalization_all_locs.csv'\n",
    "stat_file = r'.\\2020_05_10\\Summary_stats_all_locs.csv'\n",
    "\n",
    "df_hosp = pd.read_csv(hosp_file, dtype=hosp_dtypes, parse_dates=[\"date\"])\n",
    "df_stat = pd.read_csv(stat_file, dtype=stat_dtypes,\n",
    "                       parse_dates=[\"peak_bed_day_lower\",\n",
    "                                    \"peak_bed_day_upper\",\n",
    "                                    \"peak_icu_bed_day_lower\",\n",
    "                                    \"peak_icu_bed_day_upper\",\n",
    "                                    \"peak_vent_day_lower\",\n",
    "                                    \"peak_vent_day_upper\",\n",
    "                                    \"peak_bed_day_mean\",\n",
    "                                    \"peak_icu_bed_day_mean\",\n",
    "                                    \"peak_vent_day_mean\",\n",
    "                                    \"all_non-ess_business_start_date\",\n",
    "                                    \"all_non-ess_business_end_date\",\n",
    "                                    \"any_business_start_date\",\n",
    "                                    \"any_business_end_date\",\n",
    "                                    \"any_gathering_restrict_start_date\",\n",
    "                                    \"any_gathering_restrict_end_date\",\n",
    "                                    \"educational_fac_start_date\",\n",
    "                                    \"educational_fac_end_date\",\n",
    "                                    \"stay_home_start_date\",\n",
    "                                    \"stay_home_end_date\",\n",
    "                                    \"travel_limit_start_date\",\n",
    "                                    \"travel_limit_end_date\",\n",
    "                                   ]\n",
    "                      )"
   ]
  },
  {
   "cell_type": "code",
   "execution_count": 4,
   "metadata": {},
   "outputs": [
    {
     "data": {
      "text/plain": [
       "V1                                int64\n",
       "location_name                  category\n",
       "date                     datetime64[ns]\n",
       "allbed_mean                     float64\n",
       "allbed_lower                    float64\n",
       "allbed_upper                    float64\n",
       "ICUbed_mean                     float64\n",
       "ICUbed_lower                    float64\n",
       "ICUbed_upper                    float64\n",
       "InvVen_mean                     float64\n",
       "InvVen_lower                    float64\n",
       "InvVen_upper                    float64\n",
       "deaths_mean                     float64\n",
       "deaths_lower                    float64\n",
       "deaths_upper                    float64\n",
       "admis_mean                      float64\n",
       "admis_lower                     float64\n",
       "admis_upper                     float64\n",
       "newICU_mean                     float64\n",
       "newICU_lower                    float64\n",
       "newICU_upper                    float64\n",
       "totdea_mean                     float64\n",
       "totdea_lower                    float64\n",
       "totdea_upper                    float64\n",
       "bedover_mean                    float64\n",
       "bedover_lower                   float64\n",
       "bedover_upper                   float64\n",
       "icuover_mean                    float64\n",
       "icuover_lower                   float64\n",
       "icuover_upper                   float64\n",
       "deaths_mean_smoothed            float64\n",
       "deaths_lower_smoothed           float64\n",
       "deaths_upper_smoothed           float64\n",
       "totdea_mean_smoothed            float64\n",
       "totdea_lower_smoothed           float64\n",
       "totdea_upper_smoothed           float64\n",
       "mobility_data_type             category\n",
       "mobility_composite              float64\n",
       "total_tests_data_type          category\n",
       "total_tests                     float64\n",
       "confirmed_infections            float64\n",
       "est_infections_mean             float64\n",
       "est_infections_lower            float64\n",
       "est_infections_upper            float64\n",
       "dtype: object"
      ]
     },
     "execution_count": 4,
     "metadata": {},
     "output_type": "execute_result"
    }
   ],
   "source": [
    "df_hosp.dtypes"
   ]
  },
  {
   "cell_type": "code",
   "execution_count": 5,
   "metadata": {},
   "outputs": [
    {
     "data": {
      "text/plain": [
       "location_name                              category\n",
       "peak_bed_day_mean                    datetime64[ns]\n",
       "peak_bed_day_lower                   datetime64[ns]\n",
       "peak_bed_day_upper                   datetime64[ns]\n",
       "peak_icu_bed_day_mean                datetime64[ns]\n",
       "peak_icu_bed_day_lower               datetime64[ns]\n",
       "peak_icu_bed_day_upper               datetime64[ns]\n",
       "peak_vent_day_mean                   datetime64[ns]\n",
       "peak_vent_day_lower                  datetime64[ns]\n",
       "peak_vent_day_upper                  datetime64[ns]\n",
       "all_bed_capacity                            float64\n",
       "icu_bed_capacity                            float64\n",
       "all_bed_usage                               float64\n",
       "icu_bed_usage                               float64\n",
       "available_all_nbr                           float64\n",
       "available_icu_nbr                           float64\n",
       "travel_limit_start_date              datetime64[ns]\n",
       "travel_limit_end_date                datetime64[ns]\n",
       "stay_home_start_date                 datetime64[ns]\n",
       "stay_home_end_date                   datetime64[ns]\n",
       "educational_fac_start_date           datetime64[ns]\n",
       "educational_fac_end_date             datetime64[ns]\n",
       "any_gathering_restrict_start_date    datetime64[ns]\n",
       "any_gathering_restrict_end_date      datetime64[ns]\n",
       "any_business_start_date              datetime64[ns]\n",
       "any_business_end_date                datetime64[ns]\n",
       "all_non-ess_business_start_date      datetime64[ns]\n",
       "all_non-ess_business_end_date        datetime64[ns]\n",
       "dtype: object"
      ]
     },
     "execution_count": 5,
     "metadata": {},
     "output_type": "execute_result"
    }
   ],
   "source": [
    "df_stat.dtypes"
   ]
  },
  {
   "cell_type": "code",
   "execution_count": 6,
   "metadata": {},
   "outputs": [],
   "source": [
    "df_merge = pd.merge(df_hosp, df_stat, on='location_name')"
   ]
  },
  {
   "cell_type": "code",
   "execution_count": 12,
   "metadata": {},
   "outputs": [
    {
     "data": {
      "text/plain": [
       "<pandas.core.groupby.generic.DataFrameGroupBy object at 0x0000024B9017D808>"
      ]
     },
     "execution_count": 12,
     "metadata": {},
     "output_type": "execute_result"
    }
   ],
   "source": [
    "df_merge.groupby(['location_name'])"
   ]
  },
  {
   "cell_type": "code",
   "execution_count": 17,
   "metadata": {},
   "outputs": [],
   "source": [
    "some_df = df_merge.groupby(['location_name'])"
   ]
  },
  {
   "cell_type": "code",
   "execution_count": null,
   "metadata": {},
   "outputs": [],
   "source": []
  }
 ],
 "metadata": {
  "kernelspec": {
   "display_name": "Python 3",
   "language": "python",
   "name": "python3"
  },
  "language_info": {
   "codemirror_mode": {
    "name": "ipython",
    "version": 3
   },
   "file_extension": ".py",
   "mimetype": "text/x-python",
   "name": "python",
   "nbconvert_exporter": "python",
   "pygments_lexer": "ipython3",
   "version": "3.7.4"
  }
 },
 "nbformat": 4,
 "nbformat_minor": 2
}
